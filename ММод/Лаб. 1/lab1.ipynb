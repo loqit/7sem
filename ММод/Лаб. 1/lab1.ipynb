{
 "cells": [
  {
   "cell_type": "code",
   "execution_count": 2,
   "source": [
    "import numpy as np\n",
    "import matplotlib.pyplot as plt\n",
    "import math"
   ],
   "outputs": [],
   "metadata": {}
  },
  {
   "cell_type": "code",
   "execution_count": 3,
   "source": [
    "def conv_to_z(num: int):\n",
    "    return float(\"0.\" + str(num))\n",
    "    "
   ],
   "outputs": [],
   "metadata": {}
  },
  {
   "cell_type": "markdown",
   "source": [
    "# Метод середины квадрата"
   ],
   "metadata": {}
  },
  {
   "cell_type": "code",
   "execution_count": 4,
   "source": [
    "def mid_square_method(base_num, count: int, result_container: [str] = []):\n",
    "    orig_len = len(str(base_num))\n",
    "    base_num = int(base_num)\n",
    "    base_num = pow(base_num, 2)\n",
    "    base_num_str = str(base_num)\n",
    "    \n",
    "    while len(base_num_str) < orig_len * 2:\n",
    "        base_num_str = \"0\" + base_num_str\n",
    "    new_len = len(base_num_str)\n",
    "    offset = int((new_len - orig_len) / 2)\n",
    "    new_num_str = base_num_str[offset:orig_len + offset]\n",
    "   # print(base_num_str, ' ', new_num_str)\n",
    "    result_container.append(new_num_str)\n",
    "    count -= 1\n",
    "    if count:\n",
    "        mid_square_method(new_num_str, count, result_container)\n",
    "    else:\n",
    "        return\n",
    "    "
   ],
   "outputs": [],
   "metadata": {}
  },
  {
   "cell_type": "code",
   "execution_count": 5,
   "source": [
    "def conv_res(res):\n",
    "    res_z = []\n",
    "    for num in res:\n",
    "        z = conv_to_z(num)\n",
    "        res_z.append(z)\n",
    "    return res_z"
   ],
   "outputs": [],
   "metadata": {}
  },
  {
   "cell_type": "markdown",
   "source": [
    "# Мультипликативный конгруэнтный метод"
   ],
   "metadata": {}
  },
  {
   "cell_type": "code",
   "execution_count": 6,
   "source": [
    "def mul_cong_method(base_a: int, k: int, m: int, a_res: [int], result_container: [int]):\n",
    "    for i in range(m - 1):\n",
    "        new_a = (k * base_a) % m # Ai = (k * A(i-1)) mod m\n",
    "        #print(f\"{new_a} = ({k} * {base_a}) mod {m}\")\n",
    "        result_container.append(new_a / m)\n",
    "        a_res.append(new_a)\n",
    "        base_a = new_a"
   ],
   "outputs": [],
   "metadata": {}
  },
  {
   "cell_type": "markdown",
   "source": [
    "# Тестирование равномерности и независимости"
   ],
   "metadata": {}
  },
  {
   "cell_type": "code",
   "execution_count": 7,
   "source": [
    "def uni_test(K: int, nums: [float]):\n",
    "    interval_size = 1 / K\n",
    "\n",
    "    tmp = np.zeros(K)\n",
    "    l = 0.0\n",
    "    r = interval_size\n",
    "    \n",
    "    for i in range(K):\n",
    "        for j in nums:\n",
    "            if j >= l and j < r:\n",
    "                tmp[i] += 1\n",
    "        l += interval_size\n",
    "        r += interval_size\n",
    "\n",
    "    tmp_x = np.arange(0.0, 1.0 + interval_size, interval_size)\n",
    "    x = [i for i in np.arange(0.0, 1.0, interval_size)]\n",
    "\n",
    "    freq = tmp / len(nums)\n",
    "    print('Frequencies: ', freq)\n",
    "\n",
    "    math_exp = calc_math_exp(nums)\n",
    "    print('Mathematical expectation = ', math_exp, ' -> 0.5')\n",
    "\n",
    "    disp = calc_disp(nums)\n",
    "    print('Dispersion = ', disp, ' -> 0.08333...')\n",
    "\n",
    "    R = calc_R(3, nums)\n",
    "    print('Correlation = ', R)\n",
    "    \n",
    "    plt.xlabel('Value Ranges')\n",
    "    plt.ylabel('Frequency')\n",
    "    plt.axhline(y=interval_size, color=\"#E74C3C\")\n",
    "   # plt.hist(freq, bins=tmp_x, color='#7D3C98', alpha=0.7, rwidth=0.85)\n",
    "    plt.hist(x, weights=freq, bins=tmp_x, color='#48C9B0', alpha=0.7, rwidth=0.85)\n",
    "    plt.show()"
   ],
   "outputs": [],
   "metadata": {}
  },
  {
   "cell_type": "code",
   "execution_count": 8,
   "source": [
    "# Mathematical expectation\n",
    "def calc_math_exp(z: [float]):\n",
    "    math_exp = 0.0\n",
    "    for z_i in z:\n",
    "        math_exp += z_i\n",
    "    math_exp /= len(z)\n",
    "    return math_exp\n",
    "\n",
    "# Dispersion \n",
    "def calc_disp(z: [float]):\n",
    "    me = calc_math_exp(z)\n",
    "    z_p = [pow(z_i, 2) for z_i in z]\n",
    "    me_z_p = calc_math_exp(z_p)\n",
    "    disp = me_z_p - pow(me, 2)\n",
    "    return disp\n",
    "\n",
    "# Correlation\n",
    "def calc_R(s, nums):\n",
    "    n = len(nums)\n",
    "    x = []\n",
    "    y = []\n",
    "    for i in range(n - s):\n",
    "        x.append(nums[i])\n",
    "        y.append(nums[i + s])\n",
    "    xy = [(x[i] * y[i]) for i in range(len(x))]\n",
    "    m_xy = calc_math_exp(xy)\n",
    "    m_x = calc_math_exp(x)\n",
    "    m_y = calc_math_exp(y)\n",
    "    disp_x = calc_disp(x)\n",
    "    disp_y = calc_disp(y)\n",
    "\n",
    "    R = (m_xy - m_x * m_y) / ( math.sqrt(disp_x * disp_y) )\n",
    "    r1 = 12 * m_xy - 3\n",
    "    return R\n"
   ],
   "outputs": [],
   "metadata": {}
  },
  {
   "cell_type": "code",
   "execution_count": 9,
   "source": [
    "res = []\n",
    "mid_square_method(347806, 50, res)\n",
    "res_z = conv_res(res)\n",
    "\n",
    "uni_test(10, res_z)\n",
    "\n",
    "res = []\n",
    "mid_square_method(347806, 100, res)\n",
    "res_z = conv_res(res)\n",
    "\n",
    "uni_test(10, res_z)\n",
    "\n",
    "res = []\n",
    "mid_square_method(347806, 500, res)\n",
    "res_z = conv_res(res)\n",
    "\n",
    "uni_test(10, res_z)\n",
    "\n",
    "res = []\n",
    "mid_square_method(347806, 1000, res)\n",
    "res_z = conv_res(res)\n",
    "\n",
    "uni_test(10, res_z)"
   ],
   "outputs": [
    {
     "output_type": "stream",
     "name": "stdout",
     "text": [
      "Frequencies:  [0.16 0.12 0.18 0.06 0.08 0.1  0.1  0.1  0.   0.1 ]\n",
      "Mathematical expectation =  0.41595476000000015  -> 0.5\n",
      "Dispersion =  0.08552428943894233  -> 0.08333...\n",
      "Correlation =  0.04469289890350535\n"
     ]
    },
    {
     "output_type": "display_data",
     "data": {
      "image/png": "[encoded data removed]",
      "text/plain": [
       "<Figure size 432x288 with 1 Axes>"
      ]
     },
     "metadata": {
      "needs_background": "light"
     }
    },
    {
     "output_type": "stream",
     "name": "stdout",
     "text": [
      "Frequencies:  [0.11 0.16 0.12 0.08 0.08 0.1  0.08 0.13 0.06 0.08]\n",
      "Mathematical expectation =  0.4554222399999999  -> 0.5\n",
      "Dispersion =  0.08357025212424266  -> 0.08333...\n",
      "Correlation =  0.062351166693761194\n"
     ]
    },
    {
     "output_type": "display_data",
     "data": {
      "image/png": "[encoded data removed]",
      "text/plain": [
       "<Figure size 432x288 with 1 Axes>"
      ]
     },
     "metadata": {
      "needs_background": "light"
     }
    },
    {
     "output_type": "stream",
     "name": "stdout",
     "text": [
      "Frequencies:  [0.102 0.128 0.076 0.108 0.08  0.098 0.088 0.116 0.102 0.102]\n",
      "Mathematical expectation =  0.4984161280000002  -> 0.5\n",
      "Dispersion =  0.08744740053553551  -> 0.08333...\n",
      "Correlation =  0.030927751874613652\n"
     ]
    },
    {
     "output_type": "display_data",
     "data": {
      "image/png": "[encoded data removed]",
      "text/plain": [
       "<Figure size 432x288 with 1 Axes>"
      ]
     },
     "metadata": {
      "needs_background": "light"
     }
    },
    {
     "output_type": "stream",
     "name": "stdout",
     "text": [
      "Frequencies:  [0.105 0.12  0.068 0.107 0.082 0.093 0.099 0.126 0.101 0.099]\n",
      "Mathematical expectation =  0.5027027870000003  -> 0.5\n",
      "Dispersion =  0.08665835518910386  -> 0.08333...\n",
      "Correlation =  0.026620469879272465\n"
     ]
    },
    {
     "output_type": "display_data",
     "data": {
      "image/png": "[encoded data removed]",
      "text/plain": [
       "<Figure size 432x288 with 1 Axes>"
      ]
     },
     "metadata": {
      "needs_background": "light"
     }
    }
   ],
   "metadata": {}
  },
  {
   "cell_type": "code",
   "execution_count": 13,
   "source": [
    "res = []\n",
    "a_res = []\n",
    "mul_cong_method(25, 60, 1234, a_res, res)\n",
    "uni_test(10, res)\n",
    "\n",
    "res = []\n",
    "a_res = []\n",
    "mul_cong_method(25, 60, 12347, a_res, res)\n",
    "uni_test(10, res)"
   ],
   "outputs": [
    {
     "output_type": "stream",
     "name": "stdout",
     "text": [
      "Frequencies:  [0.10381184 0.10705596 0.10786699 0.07461476 0.10705596 0.10705596\n",
      " 0.07461476 0.10705596 0.10705596 0.10381184]\n",
      "Mathematical expectation =  0.4997693099409665  -> 0.5\n",
      "Dispersion =  0.08787763684232533  -> 0.08333...\n",
      "Correlation =  0.05365280756473537\n"
     ]
    },
    {
     "output_type": "display_data",
     "data": {
      "image/png": "[encoded data removed]",
      "text/plain": [
       "<Figure size 432x288 with 1 Axes>"
      ]
     },
     "metadata": {
      "needs_background": "light"
     }
    },
    {
     "output_type": "stream",
     "name": "stdout",
     "text": [
      "Frequencies:  [0.0999514 0.1000324 0.1000324 0.0999514 0.1000324 0.1000324 0.0999514\n",
      " 0.1000324 0.1000324 0.0999514]\n",
      "Mathematical expectation =  0.500000000000003  -> 0.5\n",
      "Dispersion =  0.08331983477767524  -> 0.08333...\n",
      "Correlation =  -0.0025907322457164365\n"
     ]
    },
    {
     "output_type": "display_data",
     "data": {
      "image/png": "[encoded data removed]",
      "text/plain": [
       "<Figure size 432x288 with 1 Axes>"
      ]
     },
     "metadata": {
      "needs_background": "light"
     }
    }
   ],
   "metadata": {}
  }
 ],
 "metadata": {
  "orig_nbformat": 4,
  "language_info": {
   "name": "python",
   "version": "3.8.9",
   "mimetype": "text/x-python",
   "codemirror_mode": {
    "name": "ipython",
    "version": 3
   },
   "pygments_lexer": "ipython3",
   "nbconvert_exporter": "python",
   "file_extension": ".py"
  },
  "kernelspec": {
   "name": "python3",
   "display_name": "Python 3.8.9 64-bit"
  },
  "interpreter": {
   "hash": "31f2aee4e71d21fbe5cf8b01ff0e069b9275f58929596ceb00d14d90e3e16cd6"
  }
 },
 "nbformat": 4,
 "nbformat_minor": 2
}