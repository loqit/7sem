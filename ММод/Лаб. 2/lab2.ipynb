{
 "cells": [
  {
   "cell_type": "code",
   "execution_count": 457,
   "metadata": {},
   "outputs": [],
   "source": [
    "import math\n",
    "import numpy as np\n",
    "import random\n",
    "import matplotlib.pyplot as plt\n",
    "from collections import Counter"
   ]
  },
  {
   "cell_type": "markdown",
   "metadata": {},
   "source": [
    "# Имитация случайного события"
   ]
  },
  {
   "cell_type": "code",
   "execution_count": 493,
   "metadata": {},
   "outputs": [],
   "source": [
    "def rand_event(p: float, count: int = 1e6):\n",
    "    x = np.random.uniform(size=int(count))\n",
    "    res = []\n",
    "    for x_i in x:\n",
    "        res.append(int(x_i <= p))\n",
    "    \n",
    "    pl = len(res)\n",
    "    plt.axhline(y= p)\n",
    "    plt.axhline(y= 1 - p)\n",
    "    plt.hist(res, bins=2, color=\"red\", edgecolor=\"black\", alpha=0.7, rwidth=0.85, range=[0, 1], weights=[1/count]*pl)\n",
    "    plt.xticks([0.2, 0.8], ['True', 'False'], fontsize=14)\n",
    "    #return res\n"
   ]
  },
  {
   "cell_type": "code",
   "execution_count": 494,
   "metadata": {},
   "outputs": [
    {
     "data": {
      "image/png": "[encoded data removed]",
      "text/plain": [
       "<Figure size 432x288 with 1 Axes>"
      ]
     },
     "metadata": {
      "needs_background": "light"
     },
     "output_type": "display_data"
    }
   ],
   "source": [
    "rand_event(0.33)"
   ]
  },
  {
   "cell_type": "markdown",
   "metadata": {},
   "source": [
    "# Имитация сложного события"
   ]
  },
  {
   "cell_type": "code",
   "execution_count": 559,
   "metadata": {},
   "outputs": [],
   "source": [
    "def complex_rand_event(p_a: float, p_b: float, count = 1e6):\n",
    "    \n",
    "    count = int(count)\n",
    "    x1 = np.random.uniform(size=count)\n",
    "    x2 = np.random.uniform(size=count)\n",
    "\n",
    "    p_ab = []  # AB AB̅ ĀB ĀB̅\n",
    "\n",
    "    ab_dict = {'AB': 0, 'AB!': 0, 'A!B': 0, 'A!B!': 0}\n",
    "    \n",
    "    for i in range(0, count):\n",
    "        if x1[i] < p_a:\n",
    "            if x2[i] < p_b:\n",
    "                p_ab.append(0)\n",
    "                ab_dict['AB'] += 1\n",
    "            else:\n",
    "                p_ab.append(1)\n",
    "                ab_dict['AB!'] += 1\n",
    "        else:\n",
    "            if x2[i] < p_b:\n",
    "                p_ab.append(2)\n",
    "                ab_dict['A!B'] += 1\n",
    "            else:\n",
    "                p_ab.append(3)\n",
    "                ab_dict['A!B!'] += 1   \n",
    "    print(ab_dict)\n",
    "    p_l = len(p_ab)\n",
    "    \n",
    "    #plt.bar(*zip(*ab_dict.items()), color=\"red\", edgecolor=\"black\")\n",
    "    plt.axhline(y= p_a)\n",
    "    plt.axhline(y= p_b)\n",
    "    plt.hist(p_ab, bins=[0, 1, 2, 3, 4], color=\"red\", edgecolor=\"black\", alpha=0.7, rwidth=0.85, weights=[1/p_l] * p_l)\n",
    "    plt.xticks([0.5, 1.5, 2.5, 3.5], ['AB', 'AB̅', 'ĀB', 'ĀB̅'], fontsize=14)"
   ]
  },
  {
   "cell_type": "code",
   "execution_count": 564,
   "metadata": {},
   "outputs": [],
   "source": [
    "def complex_rand_event2(p_a: float, p_b: float, count = 1e6):\n",
    "    \n",
    "    count = int(count)\n",
    "    x1 = np.random.uniform(size=count)\n",
    "    x2 = np.random.uniform(size=count)\n",
    "\n",
    "    ab_dict = {'AB': 0, 'AB!': 0, 'A!B': 0, 'A!B!': 0}\n",
    "    \n",
    "    for i in range(0, count):\n",
    "        ab_dict['AB'] += int(x1[i] <= p_a and x2[i] <= p_b)\n",
    "        ab_dict['AB!'] += int(x1[i] <= p_a and x2[i] > p_b)\n",
    "        ab_dict['A!B'] += int(x1[i] > p_a and x2[i] <= p_b)\n",
    "        ab_dict['A!B!'] += int(x1[i] > p_a and x2[i] > p_b)\n",
    "\n",
    "    print(ab_dict)\n",
    "    plt.bar(*zip(*ab_dict.items()), color=\"red\", edgecolor=\"black\")"
   ]
  },
  {
   "cell_type": "code",
   "execution_count": 565,
   "metadata": {},
   "outputs": [
    {
     "name": "stdout",
     "output_type": "stream",
     "text": [
      "{'AB': 3, 'AB!': 2, 'A!B': 1, 'A!B!': 4}\n",
      "None\n"
     ]
    },
    {
     "data": {
      "image/png": "[encoded data removed]",
      "text/plain": [
       "<Figure size 432x288 with 1 Axes>"
      ]
     },
     "metadata": {
      "needs_background": "light"
     },
     "output_type": "display_data"
    }
   ],
   "source": [
    "print(complex_rand_event2(0.5, 0.34, 10))"
   ]
  },
  {
   "cell_type": "markdown",
   "metadata": {},
   "source": [
    "# Имитация сложного события, состоящего из зависимых событий."
   ]
  },
  {
   "cell_type": "code",
   "execution_count": 545,
   "metadata": {},
   "outputs": [],
   "source": [
    "def compl_dep_events2(p_a: float, p_b_a: float, count = 1e6):\n",
    "\n",
    "    count = int(count)\n",
    "    x1 = np.random.uniform(size=count)\n",
    "    x2 = np.random.uniform(size=count)\n",
    "\n",
    "    p_b_na = 1 - p_b_a  # P(B|!A)\n",
    "\n",
    "    res = []\n",
    "    ab_dict = {'AB': 0, 'AB!': 0, 'A!B': 0, 'A!B!': 0}\n",
    "    \"\"\"\n",
    "    for i in range(0, count):\n",
    "        if x1[i] <= p_a:\n",
    "            if x2[i] <= p_b_a:\n",
    "                res.append(0)\n",
    "                ab_dict['AB'] += 1\n",
    "            else:\n",
    "                res.append(2)\n",
    "                ab_dict['A!B'] += 1\n",
    "        else:\n",
    "            if x2[i] <= p_b_na:\n",
    "                res.append(1)\n",
    "                ab_dict['AB!'] += 1\n",
    "            else:\n",
    "                res.append(3)\n",
    "                ab_dict['A!B!'] += 1\n",
    "    \"\"\"\n",
    "    for i in range(0, count):\n",
    "        ab_dict['AB'] += int(x1[i] <= p_a and x2[i] <= p_b_a)\n",
    "        ab_dict['AB!'] += int(x1[i] <= p_a and x2[i] > p_b_a)\n",
    "        ab_dict['A!B'] += int(x1[i] > p_a and x2[i] <= p_b_na)\n",
    "        ab_dict['A!B!'] += int(x1[i] > p_a and x2[i] > p_b_na)\n",
    "       \n",
    "    print(ab_dict)\n",
    "    p_l = len(res)\n",
    "    plt.bar(*zip(*ab_dict.items()), color=\"red\", edgecolor=\"black\")\n",
    "   # plt.hist(res, bins=[0, 1, 2, 3, 4], color=\"red\", edgecolor=\"black\", alpha=0.7, rwidth=0.85, weights=[1/p_l] * p_l)\n",
    "   # plt.xticks([0.5, 1.5, 2.5, 3.5], ['AB', 'AB̅', 'ĀB', 'ĀB̅'], fontsize=14)\n",
    "   \n"
   ]
  },
  {
   "cell_type": "code",
   "execution_count": 550,
   "metadata": {},
   "outputs": [
    {
     "name": "stdout",
     "output_type": "stream",
     "text": [
      "{'AB': 2, 'AB!': 4, 'A!B': 3, 'A!B!': 1}\n"
     ]
    },
    {
     "data": {
      "image/png": "[encoded data removed]",
      "text/plain": [
       "<Figure size 432x288 with 1 Axes>"
      ]
     },
     "metadata": {
      "needs_background": "light"
     },
     "output_type": "display_data"
    }
   ],
   "source": [
    "compl_dep_events2(0.45, 0.13, 10)"
   ]
  },
  {
   "cell_type": "code",
   "execution_count": 112,
   "metadata": {},
   "outputs": [
    {
     "name": "stdout",
     "output_type": "stream",
     "text": [
      "P(AB) =  0.24165000000000003\n",
      "P(AB̅) =  0.20834999999999998\n",
      "P(ĀB) =  0.29535000000000006\n",
      "P(ĀB̅) =  0.25465\n",
      "p 1 =  (False, False)\n",
      "p 2 =  (True, True)\n",
      "p 3 =  (False, True)\n",
      "p 4 =  (True, False)\n"
     ]
    }
   ],
   "source": [
    "def compl_dep_events(p_a: float, p_b_a: float):\n",
    "    x1 = random.random()\n",
    "    x2 = random.random()\n",
    "    \"\"\"\n",
    "    p_na = 1 - p_a  # P(Ā)\n",
    "    p_b_na = 1 - p_b_a   # P(B|Ā)\n",
    "\n",
    "    p_a_with_b = p_b_a * p_a  # P(A^B) = P(A) + P(B) - P(A*B)     P(A|B) = P(A^B) / P(B)\n",
    "\n",
    "\n",
    "    p_nb = 1 - p_b\n",
    "\n",
    "    p_ab = p_a * p_b   # P(A*B)\n",
    "\n",
    "\n",
    "    p_a_b = p_a_with_b / p_b    # P(A|B)\n",
    "\n",
    "    p_a_nb = 1 - p_a_b          # P(A| NOT B)\n",
    "\n",
    "    \"\"\"\n",
    "\n",
    "    p_b_na = p_not(p_b_a)\n",
    "    p_na = p_not(p_a)\n",
    "\n",
    "    p_b = p_b_a * p_a + p_b_na * p_na    # P(B) = P(B|A) * P(A) + P(B|Ā) * P(Ā)\n",
    "\n",
    "    p_nb_a = a_b(p_not(p_b), p_a)\n",
    "    p_nb_na = a_b(p_not(p_b), p_na)\n",
    "\n",
    "    p_a_b = a_b(p_a, p_b)\n",
    "\n",
    "    p_ab = p_a * p_b_a\n",
    "    p_anb = p_a * p_not(p_b)\n",
    "    p_nab = p_not(p_a) * p_b_na\n",
    "    p_nanb = p_not(p_a) * p_not(p_b)\n",
    "\n",
    "    #  Ā\n",
    "    #  B̅\n",
    "\n",
    "    print('P(AB) = ', p_ab)\n",
    "    print('P(AB̅) = ', p_anb)\n",
    "    print('P(ĀB) = ', p_nab)\n",
    "    print('P(ĀB̅) = ', p_nanb)\n",
    "\n",
    "\n",
    "    p_1 = (x1 <= p_a, x2 <= p_b_a)   # AB\n",
    "    p_2 = (x1 > p_a, x2 <= p_b_na)  # A NOT B\n",
    "    p_3 = (x1 <= p_a, x2 > p_b_a)    # NOT A B\n",
    "    p_4 = (x1 > p_a, x2 > p_b_na)   # NOT A NOT B\n",
    "\n",
    "    print('p 1 = ', p_1)\n",
    "    print('p 2 = ', p_2)\n",
    "    print('p 3 = ', p_3)\n",
    "    print('p 4 = ', p_4)\n",
    "\n",
    "\n",
    "\n",
    "def p_not(p: float):                            # P(NOT A)\n",
    "    return 1 - p\n",
    "\n",
    "def a_with_b(p_a: float, p_b: float):           # P(A^B)\n",
    "    return p_a + p_b - (p_a * p_b)\n",
    "\n",
    "def a_b(p_a: float, p_b: float):                # P(A|B)\n",
    "    p_a_with_b = a_with_b(p_a, p_b)\n",
    "    return p_a_with_b / p_b\n",
    "\n",
    "compl_dep_events(0.45, 0.13)\n"
   ]
  },
  {
   "cell_type": "markdown",
   "metadata": {},
   "source": [
    "# Имитация событий, составляющих полную группу"
   ]
  },
  {
   "cell_type": "code",
   "execution_count": 566,
   "metadata": {},
   "outputs": [],
   "source": [
    "def full_group_event(p: [float] = [0.1, 0.35, 0.3, 0.2, 0.05], count = 1e6):\n",
    "    count = int(count)\n",
    "    x = np.around(np.random.uniform(size=count), 6)\n",
    "\n",
    "    tmp = [p[0]]\n",
    "    for i in range(1, len(p)):\n",
    "        tmp.append(np.around(tmp[i - 1] + p[i], 6))\n",
    "        print(tmp[i] , ' ', p[i])\n",
    "    tmp = [0] + tmp\n",
    "    print(tmp)\n",
    "\n",
    "    res = []\n",
    "    for i in range(0, count):\n",
    "        for k in range(1, len(tmp)):\n",
    "           # print(i, ' ', j)\n",
    "            if x[i] < tmp[k] and x[i] >= tmp[k - 1]:\n",
    "                #print(tmp[k - 1], ' <= ', x[i], ' < ', tmp[k])\n",
    "                res.append(k - 1)\n",
    "                break\n",
    "\n",
    "   # print(res)\n",
    "    l = dict(Counter(res))\n",
    "    print(l)\n",
    "\n",
    "    p_l = len(res)\n",
    "    plt.bar(*zip(*l.items()), color=\"red\", edgecolor=\"black\")\n",
    "   # plt.hist(res, bins=[0, 1, 2, 3, 4, 5], color=\"red\", edgecolor=\"black\", alpha=0.7, rwidth=0.85, weights=[1/p_l] * p_l)\n",
    "   # plt.xticks([0.5, 1.5, 2.5, 3.5, 4.5], tmp[1:], fontsize=14)\n",
    "\n",
    "#full_group_event(count=10)     "
   ]
  },
  {
   "cell_type": "code",
   "execution_count": 567,
   "metadata": {},
   "outputs": [
    {
     "name": "stdout",
     "output_type": "stream",
     "text": [
      "0.45   0.35\n",
      "0.75   0.3\n",
      "0.95   0.2\n",
      "1.0   0.05\n",
      "[0, 0.1, 0.45, 0.75, 0.95, 1.0]\n",
      "{1: 350325, 3: 200243, 2: 300238, 4: 49482, 0: 99712}\n"
     ]
    },
    {
     "data": {
      "image/png": "[encoded data removed]",
      "text/plain": [
       "<Figure size 432x288 with 1 Axes>"
      ]
     },
     "metadata": {
      "needs_background": "light"
     },
     "output_type": "display_data"
    }
   ],
   "source": [
    "full_group_event()"
   ]
  }
 ],
 "metadata": {
  "interpreter": {
   "hash": "31f2aee4e71d21fbe5cf8b01ff0e069b9275f58929596ceb00d14d90e3e16cd6"
  },
  "kernelspec": {
   "display_name": "Python 3.8.9 64-bit",
   "name": "python3"
  },
  "language_info": {
   "codemirror_mode": {
    "name": "ipython",
    "version": 3
   },
   "file_extension": ".py",
   "mimetype": "text/x-python",
   "name": "python",
   "nbconvert_exporter": "python",
   "pygments_lexer": "ipython3",
   "version": "3.8.9"
  },
  "orig_nbformat": 4
 },
 "nbformat": 4,
 "nbformat_minor": 2
}
